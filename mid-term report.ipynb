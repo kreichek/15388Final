{
 "cells": [
  {
   "cell_type": "markdown",
   "metadata": {},
   "source": [
    "**Team Members**: Kevin Reichek, William Willsey, Bora Sebuktekin\n",
    "\n",
    "# Final Project Midterm Report"
   ]
  },
  {
   "cell_type": "markdown",
   "metadata": {},
   "source": [
    "Through data science analysis we aim to provide insight about the best regions for certain categories of food around the United States. It is often that people associate certain regions with the best quality and taste for distinct types of food. In particular, seafood is a subset of cuisine where people are share the belief that the best places for seafood are regions that lie along the coasts of America. The reasoning behind this intuition is that places near the coasts can more easily obtain fresh seafood and freshness of seafood very heavily correlates with the rating/quality of it. However this generalization relies mostly on this belief. With our project we aim to use Yelp ratings and reviews to assess the quality of different types of cuisines on a city by city basis. Ultimately, through Yelp data analysis, we will explore the validity of different assumptions people place upon the quality of food found in different regions.\n",
    "\n",
    "\n",
    "Our primary concerns when performing our analysis was to ensure we could normalize the data for biases. In particular, the population within the United States is very different demographically between cities, which adds to the noise in ratings given by each of these demographics. We were primarily concerned about the relative expectations of different cities due to these differences in demographics. For example, a city that is not known for its seafood might make people lower their expectations when going to a seafood restaurant and therefore they give a higher rating than they would if they were in a city that is known for its seafood. To circumvent this issue we plan to explore a correlation between the average ratings given to seafood restaurants of a certain region and the number of such restaurants within the region. We use this data to normalize ratings across cities to best assess the true ratings of restaurants unhindered by the biases present in separate geographies.\n",
    "\n",
    "\n",
    "We performed our analysis on more than 250 major United States cities. For each city, we took the average number of seafood restaurants with the corresponding average restaurant rating for those restaurants and plotted those in a scatter plot. The results showed that there is indeed a positive correlation between the average seafood rating of a city and the number of restaurants in the city (shown below). \n",
    "\n",
    "<img src=\"correlation_seafood.png\">\n",
    "\n",
    "The relationship we mapped showed a somewhat linear trend based upon the number of seafood restaurants versus the restaurant ratings within the granularity of a city. From this information alone we did a United States map visualization, weighted on this relationship, of the cities present in our study to better see the regional relationships with cuisine (seafood in this case - shown below). \n",
    "\n",
    "<img src=\"us_seafood.PNG\">\n",
    "\n",
    "The cities with bigger blue marks on the map are the ones with the highest normalized average restaurant rating. Using this, along with regional rating weights, we will normalize the ratings by city to obtain our final result. By doing so we hope to unbias the data from noise generated from different demographics across regions.\n",
    "\n",
    "\n",
    "Our future work entails better normalizing the ratings we scraped from the Yelp API. In specific, we will explore similar correlations with other cuisines and normalize our datasets accordingly. Further biases may come from the response rates of Yelp reviewers for outlier restaurants or just a lack of restaurants all together. To truly receive a noise free result we look to adjust ratings from these additionally correlated areas within our dataset. To achieve this we will use the power of the Yelp api to query data from different cities and ultimately choose the best cities with which to represent different regions. Likewise, with continued use of the Folium map visualization library we can nicely visualize our results to assess the validity of the assumptions we seek to test. For instance, as shown above, we can instantly see from our initial findings that the expectation that coastal cities have the best seafood is supported since the normalized ratings of those cities are higher/more prominent on the map. Although the expectation is in line with our results for seafood it might be that we have yet to adjust for all the noise in our data or that an entirely different cuisine may show unexpected results instead. The purpose is to explore these expectations and show through data science whether they are valid or not. Our final end product will rank the best cities in the country for different types of cuisines, which will show whether or not the expectations that are widely held are indeed correct."
   ]
  }
 ],
 "metadata": {
  "kernelspec": {
   "display_name": "Python [Root]",
   "language": "python",
   "name": "Python [Root]"
  },
  "language_info": {
   "codemirror_mode": {
    "name": "ipython",
    "version": 2
   },
   "file_extension": ".py",
   "mimetype": "text/x-python",
   "name": "python",
   "nbconvert_exporter": "python",
   "pygments_lexer": "ipython2",
   "version": "2.7.12"
  }
 },
 "nbformat": 4,
 "nbformat_minor": 0
}
